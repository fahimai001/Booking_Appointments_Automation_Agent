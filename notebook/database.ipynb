{
 "cells": [
  {
   "cell_type": "code",
   "execution_count": 3,
   "metadata": {},
   "outputs": [
    {
     "name": "stdout",
     "output_type": "stream",
     "text": [
      "Table 'appointments' exists. Fetching data...\n",
      "\n",
      "No records found in the 'appointments' table.\n"
     ]
    }
   ],
   "source": [
    "import sqlite3\n",
    "\n",
    "# Connect to the database\n",
    "conn = sqlite3.connect('appointments.db')\n",
    "c = conn.cursor()\n",
    "\n",
    "# Check if the table exists\n",
    "c.execute(\"SELECT name FROM sqlite_master WHERE type='table' AND name='appointments'\")\n",
    "table_exists = c.fetchone()\n",
    "\n",
    "if table_exists:\n",
    "    print(\"Table 'appointments' exists. Fetching data...\\n\")\n",
    "    \n",
    "    # Fetch all data\n",
    "    c.execute(\"SELECT * FROM appointments\")\n",
    "    rows = c.fetchall()\n",
    "\n",
    "    if rows:\n",
    "        for row in rows:\n",
    "            print(row)  # Print each row\n",
    "    else:\n",
    "        print(\"No records found in the 'appointments' table.\")\n",
    "else:\n",
    "    print(\"Table 'appointments' does not exist.\")\n",
    "\n",
    "# Close the connection\n",
    "conn.close()\n"
   ]
  },
  {
   "cell_type": "code",
   "execution_count": null,
   "metadata": {},
   "outputs": [],
   "source": []
  }
 ],
 "metadata": {
  "kernelspec": {
   "display_name": "langchain",
   "language": "python",
   "name": "python3"
  },
  "language_info": {
   "codemirror_mode": {
    "name": "ipython",
    "version": 3
   },
   "file_extension": ".py",
   "mimetype": "text/x-python",
   "name": "python",
   "nbconvert_exporter": "python",
   "pygments_lexer": "ipython3",
   "version": "3.12.8"
  }
 },
 "nbformat": 4,
 "nbformat_minor": 2
}
